{
 "cells": [
  {
   "cell_type": "code",
   "execution_count": 27,
   "id": "04033edb",
   "metadata": {},
   "outputs": [
    {
     "name": "stdout",
     "output_type": "stream",
     "text": [
      "Enter the password: 6754\n",
      "Invalid Password\n",
      "Strings starting with 'a': ['apple']\n",
      "Numeric strings: ['123', '456']\n",
      "Squares of numbers from 1 to 10: [1, 4, 9, 16, 25, 36, 49, 64, 81, 100]\n",
      "Even numbers: [2, 4, 6, 8, 10]\n",
      "Odd numbers: [1, 3, 5, 7, 9]\n",
      "Positive integers: [1, 2, 3, 4, 5, 6]\n",
      "Negative integers: [-1, -2, -3, -4, -5]\n"
     ]
    }
   ],
   "source": [
    "# Q1:\n",
    "def check_password(password):\n",
    "    if len(password) != 10:\n",
    "        return \"Invalid Password\"\n",
    "    \n",
    "    uppercase_count = sum(1 for char in password if char.isupper())\n",
    "    lowercase_count = sum(1 for char in password if char.islower())\n",
    "    digit_count = sum(1 for char in password if char.isdigit())\n",
    "    special_char_count = sum(1 for char in password if not char.isalnum())\n",
    "\n",
    "    if uppercase_count >= 2 and lowercase_count >= 2 and digit_count >= 1 and special_char_count >= 3:\n",
    "        return \"Valid Password\"\n",
    "    else:\n",
    "        return \"Invalid Password\"\n",
    "\n",
    "# Test the function\n",
    "password = input(\"Enter the password: \")\n",
    "print(check_password(password))\n",
    "\n",
    "# Q2:\n",
    "# Check if the string starts with a particular letter (using list comprehension)\n",
    "strings = ['apple', 'banana', 'cherry', 'orange']\n",
    "letter = 'a'\n",
    "result = [s for s in strings if s.startswith(letter)]\n",
    "print(\"Strings starting with 'a':\", result)\n",
    "\n",
    "# Check if the string is numeric (using lambda function and filter)\n",
    "strings = ['apple', '123', 'orange', '456']\n",
    "result = list(filter(lambda s: s.isnumeric(), strings))\n",
    "print(\"Numeric strings:\", result)\n",
    "\n",
    "# Find the squares of numbers from 1 to 10 (using list comprehension)\n",
    "numbers = range(1, 11)\n",
    "squares = [num ** 2 for num in numbers]\n",
    "print(\"Squares of numbers from 1 to 10:\", squares)\n",
    "\n",
    "# Check if a given number is even (using lambda function and filter)\n",
    "numbers = [1, 2, 3, 4, 5, 6, 7, 8, 9, 10]\n",
    "even_numbers = list(filter(lambda x: x % 2 == 0, numbers))\n",
    "print(\"Even numbers:\", even_numbers)\n",
    "\n",
    "# Filter odd numbers from the given list (using filter function)\n",
    "odd_numbers = list(filter(lambda x: x % 2 != 0, numbers))\n",
    "print(\"Odd numbers:\", odd_numbers)\n",
    "\n",
    "# Sort a list of integers into positive and negative integers lists (using list comprehension)\n",
    "integers = [1, 2, 3, 4, 5, 6, -1, -2, -3, -4, -5, 0]\n",
    "positive_integers = [num for num in integers if num > 0]\n",
    "negative_integers = [num for num in integers if num < 0]\n",
    "print(\"Positive integers:\", positive_integers)\n",
    "print(\"Negative integers:\", negative_integers)\n"
   ]
  },
  {
   "cell_type": "code",
   "execution_count": null,
   "id": "87aedc9a",
   "metadata": {},
   "outputs": [],
   "source": []
  }
 ],
 "metadata": {
  "kernelspec": {
   "display_name": "Python 3 (ipykernel)",
   "language": "python",
   "name": "python3"
  },
  "language_info": {
   "codemirror_mode": {
    "name": "ipython",
    "version": 3
   },
   "file_extension": ".py",
   "mimetype": "text/x-python",
   "name": "python",
   "nbconvert_exporter": "python",
   "pygments_lexer": "ipython3",
   "version": "3.9.12"
  }
 },
 "nbformat": 4,
 "nbformat_minor": 5
}
